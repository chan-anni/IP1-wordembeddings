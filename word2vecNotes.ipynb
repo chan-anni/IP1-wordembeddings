{
 "cells": [
  {
   "attachments": {},
   "cell_type": "markdown",
   "metadata": {},
   "source": [
    "Annika Chan\n",
    "word2vec notebook\n",
    "* cleaned python file can be found without notes"
   ]
  },
  {
   "cell_type": "code",
   "execution_count": 10,
   "metadata": {},
   "outputs": [],
   "source": [
    "# downloading the packages for the environment\n",
    "\n",
    "#!pip install gensim\n",
    "#!pip install matplotlib\n",
    "#!pip install scikit-learn==1.3.1"
   ]
  },
  {
   "cell_type": "code",
   "execution_count": 11,
   "metadata": {},
   "outputs": [],
   "source": [
    "import gensim\n",
    "from gensim.models import Word2Vec\n",
    "import numpy as np\n",
    "import matplotlib.pyplot as plt\n",
    "from sklearn.manifold import TSNE"
   ]
  },
  {
   "attachments": {},
   "cell_type": "markdown",
   "metadata": {},
   "source": [
    "data can be found here - https://www.kaggle.com/datasets/adarshsng/googlenewsvectors"
   ]
  },
  {
   "cell_type": "code",
   "execution_count": 12,
   "metadata": {},
   "outputs": [],
   "source": [
    "model_path = \"/Users/anni/Library/CloudStorage/OneDrive-EastsidePreparatorySchool/High School/12th Grade/IP/GoogleNews-vectors-negative300.bin\"\n",
    "model = gensim.models.KeyedVectors.load_word2vec_format(model_path, binary=True)"
   ]
  },
  {
   "cell_type": "code",
   "execution_count": 13,
   "metadata": {},
   "outputs": [
    {
     "name": "stdout",
     "output_type": "stream",
     "text": [
      "Words similar to loud:\n",
      "\tnoisy - 0.6621273159980774\n",
      "\n",
      "\tloudly - 0.636400580406189\n",
      "\n",
      "\tfer_cryin - 0.6316129565238953\n",
      "\n",
      "\tdeafening - 0.6294395327568054\n",
      "\n",
      "\tLoud - 0.6140207052230835\n",
      "\n",
      "\tloudest - 0.5992903113365173\n",
      "\n",
      "\tobnoxiously_loud - 0.5985252261161804\n",
      "\n",
      "\tear_splitting - 0.597548246383667\n",
      "\n",
      "\tscreeching_noises - 0.5830792188644409\n",
      "\n",
      "\tmuffled - 0.5812103152275085\n",
      "\n"
     ]
    }
   ],
   "source": [
    "# Finding similar words\n",
    "word = 'loud'\n",
    "similar_words = model.most_similar(word, topn=10)\n",
    "print(f\"Words similar to {word}:\")\n",
    "\n",
    "for word, score in similar_words:\n",
    "    print(f\"\\t{word} - {score}\\n\")\n"
   ]
  }
 ],
 "metadata": {
  "kernelspec": {
   "display_name": "myenv",
   "language": "python",
   "name": "python3"
  },
  "language_info": {
   "codemirror_mode": {
    "name": "ipython",
    "version": 3
   },
   "file_extension": ".py",
   "mimetype": "text/x-python",
   "name": "python",
   "nbconvert_exporter": "python",
   "pygments_lexer": "ipython3",
   "version": "3.11.1"
  },
  "orig_nbformat": 4
 },
 "nbformat": 4,
 "nbformat_minor": 2
}
