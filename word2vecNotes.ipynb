{
 "cells": [
  {
   "attachments": {},
   "cell_type": "markdown",
   "metadata": {},
   "source": [
    "Annika Chan\n",
    "word2vec notebook\n",
    "cleaned python file can be found without notes in word2vec.py"
   ]
  },
  {
   "cell_type": "code",
   "execution_count": 2,
   "metadata": {},
   "outputs": [],
   "source": [
    "# downloading the packages for the environment\n",
    "\n",
    "#!pip install gensim\n",
    "#!pip install matplotlib\n",
    "#!pip install scikit-learn==1.3.1"
   ]
  },
  {
   "cell_type": "code",
   "execution_count": 3,
   "metadata": {},
   "outputs": [],
   "source": [
    "import gensim\n",
    "from gensim.models import Word2Vec\n",
    "import numpy as np\n",
    "import matplotlib.pyplot as plt\n",
    "from sklearn.manifold import TSNE"
   ]
  },
  {
   "attachments": {},
   "cell_type": "markdown",
   "metadata": {},
   "source": [
    "Creating/implementing the pretrained model. This will be used later to determine biases in language\n",
    "\n",
    "Data can be found here - https://www.kaggle.com/datasets/adarshsng/googlenewsvectors"
   ]
  },
  {
   "cell_type": "code",
   "execution_count": 4,
   "metadata": {},
   "outputs": [],
   "source": [
    "model_path = \"/Users/anni/Library/CloudStorage/OneDrive-EastsidePreparatorySchool/High School/12th Grade/IP/GoogleNews-vectors-negative300.bin\"\n",
    "model = gensim.models.KeyedVectors.load_word2vec_format(model_path, binary=True)"
   ]
  },
  {
   "attachments": {},
   "cell_type": "markdown",
   "metadata": {},
   "source": [
    "## Part 1: exploring word2vec\n",
    "\n",
    "In Word2Vec, each word is represented as a vector in a multi-dimensional space with each index in the vector representing a specific feature and that index value being the mathematical representation of the word described by that feature dimension(e.g. [0.3, 0.8] could be a vector for \"grandpa\" and the second value represents the age dimension). Words sharing semantic similarities (think of synonyms) will be spacially closer to each other.\n",
    "\n",
    "\n",
    "Word2Vec has two different architectures: skipgram and continous bag of words (cbow)\n",
    "* skip gram: based on a target word, the model will predict the words around it\n",
    "* cbow: based on the words in the sentence around the target word, the model will predict the missing word \n",
    "\n",
    "\n",
    "To measure semantic similarities between words, word2vec utilizes cosine similarity. Cosine similarity calculates the cosine of the angle between two vectors. This value ranges from -1 to 1, where 1 means the vectors are in the same direction (high similarity), 0 indicates orthogonality (no similarity), and -1 means they are in opposite directions (high dissimilarity). Essentially it's measuring the cosine of the angle between two word vectors.\n",
    "\n",
    "\n",
    "Cosine similarity is used over euclidean distance because it is less affected by the magnitude of the vectors. This is crucial since the frequency of words (which could affect vector magnitude/length) does not necessarily imply semantic similarity.\n"
   ]
  },
  {
   "cell_type": "code",
   "execution_count": 5,
   "metadata": {},
   "outputs": [
    {
     "name": "stdout",
     "output_type": "stream",
     "text": [
      "Words similar to loud:\n",
      "\tnoisy - 0.6621273159980774\n",
      "\n",
      "\tloudly - 0.636400580406189\n",
      "\n",
      "\tfer_cryin - 0.6316129565238953\n",
      "\n",
      "\tdeafening - 0.6294395327568054\n",
      "\n",
      "\tLoud - 0.6140207052230835\n",
      "\n",
      "\tloudest - 0.5992903113365173\n",
      "\n",
      "\tobnoxiously_loud - 0.5985252261161804\n",
      "\n",
      "\tear_splitting - 0.597548246383667\n",
      "\n",
      "\tscreeching_noises - 0.5830792188644409\n",
      "\n",
      "\tmuffled - 0.5812103152275085\n",
      "\n"
     ]
    }
   ],
   "source": [
    "# Finding similar words to loud\n",
    "word = 'loud'\n",
    "similar_words = model.most_similar(word, topn=10)\n",
    "print(f\"Words similar to {word}:\")\n",
    "\n",
    "for word, score in similar_words:\n",
    "    print(f\"\\t{word} - {score}\\n\")"
   ]
  },
  {
   "cell_type": "code",
   "execution_count": 6,
   "metadata": {},
   "outputs": [
    {
     "name": "stdout",
     "output_type": "stream",
     "text": [
      "Words similar to amazon:\n",
      "\titunes - 0.5846980810165405\n",
      "\n",
      "\tplay.com - 0.5455037951469421\n",
      "\n",
      "\tcli - 0.543582022190094\n",
      "\n",
      "\tadobe_acrobat - 0.5393003821372986\n",
      "\n",
      "\tamiga - 0.5359835624694824\n",
      "\n",
      "\tcanada - 0.5305779576301575\n",
      "\n",
      "\tAmazon - 0.5263347625732422\n",
      "\n",
      "\tsony - 0.5243285298347473\n",
      "\n",
      "\tdvd - 0.5242242813110352\n",
      "\n",
      "\tbluray - 0.5225474834442139\n",
      "\n"
     ]
    }
   ],
   "source": [
    "# Finding similar words to amazon\n",
    "word = 'amazon'\n",
    "similar_words = model.most_similar(word, topn=10)\n",
    "print(f\"Words similar to {word}:\")\n",
    "\n",
    "for word, score in similar_words:\n",
    "    print(f\"\\t{word} - {score}\\n\")"
   ]
  },
  {
   "cell_type": "code",
   "execution_count": 9,
   "metadata": {},
   "outputs": [
    {
     "name": "stdout",
     "output_type": "stream",
     "text": [
      "Words similar to therefore:\n",
      "\tconsequently - 0.7405011057853699\n",
      "\n",
      "\thence - 0.702417254447937\n",
      "\n",
      "\tmoreover - 0.6448609232902527\n",
      "\n",
      "\tTherefore - 0.6114173531532288\n",
      "\n",
      "\tfurthermore - 0.6039420366287231\n",
      "\n",
      "\tthus - 0.5615307092666626\n",
      "\n",
      "\tConsequently - 0.5579942464828491\n",
      "\n",
      "\tHence - 0.5381782650947571\n",
      "\n",
      "\tThirdly - 0.5330169200897217\n",
      "\n",
      "\tbecause - 0.5318125486373901\n",
      "\n"
     ]
    }
   ],
   "source": [
    "# Finding similar words to samoyed\n",
    "word = 'therefore'\n",
    "similar_words = model.most_similar(word, topn=10)\n",
    "print(f\"Words similar to {word}:\")\n",
    "\n",
    "for word, score in similar_words:\n",
    "    print(f\"\\t{word} - {score}\\n\")"
   ]
  },
  {
   "cell_type": "code",
   "execution_count": null,
   "metadata": {},
   "outputs": [],
   "source": []
  },
  {
   "attachments": {},
   "cell_type": "markdown",
   "metadata": {},
   "source": [
    "Plotting random words that have some relation and looking at how they are on a graph.\n",
    "First I'm creating an array of words to visualize. Then I'm looping through to get the actual numerical vectors for each word along with their labels (which should be the word). then using those I can plot the words on a graph\n",
    "\n",
    "Note: because this plot is 2D we cannot completely accurately visualize the semantic representations"
   ]
  },
  {
   "cell_type": "code",
   "execution_count": 11,
   "metadata": {},
   "outputs": [
    {
     "data": {
      "image/png": "[encoded data removed]",
      "text/plain": [
       "<Figure size 1200x800 with 1 Axes>"
      ]
     },
     "metadata": {},
     "output_type": "display_data"
    }
   ],
   "source": [
    "# Making graphs and visualizations\n",
    "\n",
    "# https://stackoverflow.com/questions/40581010/how-to-run-tsne-on-word2vec-created-from-gensim\n",
    "# for help with visualization\n",
    "\n",
    "# Figure 1: A 2D graph of word-vectors in relation to each other\n",
    "#List of specific words to visualize\n",
    "specific_words = [\"king\", \"queen\", \"man\", \"woman\", \"computer\", \"laptop\", \"coworker\", \"cat\", \"dog\", \"pet\", \"child\", \"working\", \"cats\", \"lawyer\",\"singer\", \"artist\", \"librarian\", \"programmer\", \"maid\", \"homemaker\", \"leadership\", \"sexy\", \"emotional\", \"calm\", \"smart\", \"polite\", \"confident\", \"this\", \"therefore\", \"help\", \"running\", \"gun\", \"violence\", \"Jamal\", \"Sarah\", \"India\", \"road\", \"cow\", \"beef\", \"today\", \"pacific\"]\n",
    "\n",
    "#Extract vectors for the specific words\n",
    "word_vectors = np.array([model[word] for word in specific_words if word in model])\n",
    "\n",
    "# Extract vectors for the specific words and pair them with their labels\n",
    "word_label_pairs = [(word, model[word]) for word in specific_words if word in model.key_to_index]\n",
    "words_to_plot = [pair[0] for pair in word_label_pairs] # the words/labels to plot\n",
    "vectors_to_plot = np.array([pair[1] for pair in word_label_pairs]) # the actual mathematical vectors to be plotted\n",
    "\n",
    "\n",
    "\n",
    "\n",
    "# Apply t-SNE for dimensionality reduction to make it 2D\n",
    "tsne = TSNE(n_components=2, random_state=0, perplexity=min(5, len(word_vectors) - 1))\n",
    "Y = tsne.fit_transform(vectors_to_plot)\n",
    "\n",
    "# Plot the results as a graph\n",
    "plt.figure(figsize=(12, 8))\n",
    "plt.scatter(Y[:, 0], Y[:, 1])\n",
    "for label, x, y in zip(words_to_plot, Y[:, 0], Y[:, 1]):\n",
    "    plt.annotate(label, xy=(x, y), xytext=(0, 0), textcoords='offset points')\n",
    "\n",
    "plt.show()"
   ]
  },
  {
   "attachments": {},
   "cell_type": "markdown",
   "metadata": {},
   "source": [
    "## Part 2: Exploring Gender Bias in Words\n",
    "\n",
    "One way we can do this is by doing vector math. We can do vector addition and subtraction to get to new vectors. Some of my results are located in tracker.xlsx sheet."
   ]
  },
  {
   "cell_type": "code",
   "execution_count": 12,
   "metadata": {},
   "outputs": [
    {
     "name": "stdout",
     "output_type": "stream",
     "text": [
      "testing vector math:\n",
      "\n",
      "\t the result is: [('queen', 0.7118192911148071)]\n"
     ]
    }
   ],
   "source": [
    "print(\"testing vector math:\")\n",
    "# Trying math to see most similar single word\n",
    "# ex: king + woman - man should be queen\n",
    "result = model.most_similar(positive=['king', 'woman'], negative=['man'], topn=1)\n",
    "print(f\"\\n\\t the result is: {result}\")"
   ]
  },
  {
   "cell_type": "code",
   "execution_count": 19,
   "metadata": {},
   "outputs": [
    {
     "name": "stdout",
     "output_type": "stream",
     "text": [
      "\n",
      "\t the result is: [('Chief_Executive_Officer', 0.691335916519165), ('COO', 0.6871274709701538), ('chief_executive', 0.6835318207740784), ('Chief_Operating_Officer', 0.6726173162460327), ('Chief_Executive', 0.6467347741127014), ('Chairman', 0.6230553388595581), ('chairman', 0.5836375951766968), ('ceo', 0.5829241871833801), ('Managing_Director', 0.5804635286331177), ('CTO', 0.5742257237434387)]\n"
     ]
    }
   ],
   "source": [
    "# What about looking another word?\n",
    "result = model.most_similar(positive=['CEO', 'he'], negative=['she'], topn=10)\n",
    "print(f\"\\n\\t the result is: {result}\")"
   ]
  },
  {
   "cell_type": "code",
   "execution_count": 20,
   "metadata": {},
   "outputs": [
    {
     "name": "stdout",
     "output_type": "stream",
     "text": [
      "nurturing - 'she' + 'he': [('nurture', 0.5628977417945862)]\n",
      "\n",
      "loyal - 'she' + 'he': [('fiercely_loyal', 0.5910407900810242)]\n",
      "\n",
      "strong - 'she' + 'he': [('solid', 0.5874135494232178)]\n",
      "\n",
      "kind - 'she' + 'he': [('sort', 0.6544800400733948)]\n",
      "\n",
      "honest - 'she' + 'he': [('dignity_Aujali', 0.5113795399665833)]\n",
      "\n",
      "independent - 'she' + 'he': [('indepedent', 0.48129671812057495)]\n",
      "\n",
      "leadership - 'she' + 'he': [('leader', 0.5210046172142029)]\n",
      "\n",
      "sexy - 'she' + 'he': [('suave', 0.5243145227432251)]\n",
      "\n",
      "emotional - 'she' + 'he': [('Emotional', 0.5070326924324036)]\n",
      "\n",
      "calm - 'she' + 'he': [('calmness', 0.5488001704216003)]\n",
      "\n",
      "smart - 'she' + 'he': [('shrewd', 0.49839869141578674)]\n",
      "\n",
      "polite - 'she' + 'he': [('courteous', 0.5959535837173462)]\n",
      "\n",
      "confident - 'she' + 'he': [('optimistic', 0.5900174379348755)]\n",
      "\n",
      "agreeable - 'she' + 'he': [('amenable', 0.5238919854164124)]\n",
      "\n",
      "assertive - 'she' + 'he': [('forceful', 0.5059183835983276)]\n",
      "\n",
      "passive - 'she' + 'he': [('passively', 0.4494434595108032)]\n",
      "\n",
      "dominant - 'she' + 'he': [('dominating', 0.5573240518569946)]\n",
      "\n",
      "competitive - 'she' + 'he': [('competitve', 0.5941250920295715)]\n",
      "\n",
      "hardworking - 'she' + 'he': [('honest_hardworking', 0.5416632294654846)]\n",
      "\n",
      "cute - 'she' + 'he': [('goofy', 0.586737334728241)]\n",
      "\n",
      "talented - 'she' + 'he': [('supremely_talented', 0.6200865507125854)]\n",
      "\n"
     ]
    }
   ],
   "source": [
    "# Speeding the process up by just looping through an array and printing out the first result:\n",
    "\n",
    "traits = [\"nurturing\", \"loyal\", \"strong\", \"kind\", \"honest\", \"independent\", \"leadership\", \"sexy\", \"emotional\", \"calm\", \"smart\", \"polite\", \"confident\", \"agreeable\", \"assertive\", \"passive\", \"dominant\", \"competitive\", \"hardworking\", \"cute\", \"talented\"]\n",
    "for x in traits:\n",
    "    new_trait = model.most_similar(positive=[x, 'he'], negative=['she'], topn=1)\n",
    "    print(x + f\" - 'she' + 'he': {new_trait}\\n\")"
   ]
  },
  {
   "attachments": {},
   "cell_type": "markdown",
   "metadata": {},
   "source": [
    "There are some interesting ones! For example:\n",
    "'smart' - 'she' + 'he' = 'shrewd'? --> (having or showing sharp powers of judgment; astute.) --> shrewd feels more knowing and menacing than just smart\n",
    "'cute' - 'she' + 'he' = 'goofy'? --> could this imply that men don' tneed to look as good and be more personable compared to women?\n",
    "'sexy' - 'she' + 'he' = 'suave'? --> (dictionary def: charming, confident, and elegant (typically used of a man)).\n",
    "'talented' - 'she' + 'he' = 'supremely_talented' --> why include supremely?\n",
    "\n",
    "Overall, it's hard to see if there are gender biases just off vector math alone since we'd have to be aware of the stereotypes and micro-stereotypes as well as inherient biases that we already hold. So another way we can look for potential bias is through visualization."
   ]
  }
 ],
 "metadata": {
  "kernelspec": {
   "display_name": "myenv",
   "language": "python",
   "name": "python3"
  },
  "language_info": {
   "codemirror_mode": {
    "name": "ipython",
    "version": 3
   },
   "file_extension": ".py",
   "mimetype": "text/x-python",
   "name": "python",
   "nbconvert_exporter": "python",
   "pygments_lexer": "ipython3",
   "version": "3.11.1"
  },
  "orig_nbformat": 4
 },
 "nbformat": 4,
 "nbformat_minor": 2
}
